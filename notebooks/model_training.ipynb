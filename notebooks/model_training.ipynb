{
 "cells": [
  {
   "cell_type": "code",
   "execution_count": null,
   "id": "initial_id",
   "metadata": {
    "collapsed": true
   },
   "outputs": [],
   "source": [
    "import pandas as pd\n",
    "import matplotlib.pyplot as plt\n",
    "import seaborn as sns\n",
    "from sklearn.metrics import confusion_matrix, classification_report\n",
    "\n",
    "# 加载模型\n",
    "import joblib\n",
    "best_clf = joblib.load('../models/random_forest_model.pkl')\n",
    "\n",
    "# 加载测试数据\n",
    "data = pd.read_csv('../data/processed/reduced_features_data.csv')\n",
    "X = data.drop('Label', axis=1)\n",
    "y = data['Label']\n",
    "\n",
    "# 预测\n",
    "y_pred = best_clf.predict(X)\n",
    "\n",
    "# 混淆矩阵\n",
    "conf_matrix = confusion_matrix(y, y_pred)\n",
    "print(conf_matrix)\n",
    "\n",
    "# 绘制混淆矩阵\n",
    "plt.figure(figsize=(8, 6))\n",
    "sns.heatmap(conf_matrix, annot=True, fmt='d', cmap='Blues', xticklabels=['BENIGN', 'MALICIOUS'], yticklabels=['BENIGN', 'MALICIOUS'])\n",
    "plt.ylabel('True label')\n",
    "plt.xlabel('Predicted label')\n",
    "plt.title('Confusion Matrix')\n",
    "plt.savefig('../results/confusion_matrix.png')\n",
    "plt.show()\n",
    "\n",
    "# 输出分类报告\n",
    "report = classification_report(y, y_pred)\n",
    "print(report)\n",
    "\n",
    "# 保存分类报告\n",
    "with open('../results/classification_report.txt', 'w') as f:\n",
    "    f.write(report)\n"
   ]
  }
 ],
 "metadata": {
  "kernelspec": {
   "display_name": "Python 3",
   "language": "python",
   "name": "python3"
  },
  "language_info": {
   "codemirror_mode": {
    "name": "ipython",
    "version": 2
   },
   "file_extension": ".py",
   "mimetype": "text/x-python",
   "name": "python",
   "nbconvert_exporter": "python",
   "pygments_lexer": "ipython2",
   "version": "2.7.6"
  }
 },
 "nbformat": 4,
 "nbformat_minor": 5
}
