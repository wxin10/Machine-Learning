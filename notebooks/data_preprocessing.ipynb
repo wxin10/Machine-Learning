{
 "cells": [
  {
   "cell_type": "code",
   "execution_count": null,
   "id": "initial_id",
   "metadata": {
    "collapsed": true
   },
   "outputs": [],
   "source": [
    "import pandas as pd\n",
    "from sklearn.model_selection import train_test_split\n",
    "from sklearn.preprocessing import StandardScaler\n",
    "\n",
    "# 加载数据\n",
    "data = pd.read_csv('../data/CICIDS2017/Friday-WorkingHours-Afternoon-DDos.pcap_ISCX.csv')\n",
    "\n",
    "# 检查缺失值\n",
    "print(data.isnull().sum())\n",
    "\n",
    "# 删除包含缺失值的行或用填充值替换\n",
    "data = data.dropna()\n",
    "\n",
    "# 标签编码，将文本标签转为数值\n",
    "data['Label'] = data['Label'].apply(lambda x: 1 if x != 'BENIGN' else 0)\n",
    "\n",
    "# 特征和标签分离\n",
    "X = data.drop(['Label'], axis=1)\n",
    "y = data['Label']\n",
    "\n",
    "# 数据集划分为训练集和测试集\n",
    "X_train, X_test, y_train, y_test = train_test_split(X, y, test_size=0.2, random_state=42)\n",
    "\n",
    "# 数据标准化\n",
    "scaler = StandardScaler()\n",
    "X_train = scaler.fit_transform(X_train)\n",
    "X_test = scaler.transform(X_test)\n",
    "\n",
    "# 保存预处理后的数据\n",
    "processed_data = pd.DataFrame(X_train)\n",
    "processed_data['Label'] = y_train.values\n",
    "processed_data.to_csv('../data/processed/preprocessed_data.csv', index=False)\n"
   ]
  }
 ],
 "metadata": {
  "kernelspec": {
   "display_name": "Python 3",
   "language": "python",
   "name": "python3"
  },
  "language_info": {
   "codemirror_mode": {
    "name": "ipython",
    "version": 2
   },
   "file_extension": ".py",
   "mimetype": "text/x-python",
   "name": "python",
   "nbconvert_exporter": "python",
   "pygments_lexer": "ipython2",
   "version": "2.7.6"
  }
 },
 "nbformat": 4,
 "nbformat_minor": 5
}
