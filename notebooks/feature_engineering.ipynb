{
 "cells": [
  {
   "cell_type": "code",
   "execution_count": null,
   "id": "initial_id",
   "metadata": {
    "collapsed": true
   },
   "outputs": [],
   "source": [
    "import pandas as pd\n",
    "from sklearn.ensemble import RandomForestClassifier\n",
    "from sklearn.feature_selection import SelectFromModel\n",
    "\n",
    "# 加载预处理后的数据\n",
    "data = pd.read_csv('../data/processed/preprocessed_data.csv')\n",
    "\n",
    "X = data.drop('Label', axis=1)\n",
    "y = data['Label']\n",
    "\n",
    "# 使用随机森林进行特征重要性分析\n",
    "clf = RandomForestClassifier(n_estimators=100, random_state=42)\n",
    "clf.fit(X, y)\n",
    "\n",
    "# 提取特征重要性\n",
    "importances = clf.feature_importances_\n",
    "feature_importance = pd.DataFrame({\n",
    "    'Feature': X.columns,\n",
    "    'Importance': importances\n",
    "}).sort_values(by='Importance', ascending=False)\n",
    "\n",
    "# 打印最重要的前10个特征\n",
    "print(feature_importance.head(10))\n",
    "\n",
    "# 保存特征重要性\n",
    "feature_importance.to_csv('../data/feature_importance.csv', index=False)\n",
    "\n",
    "# 根据重要性选择特征\n",
    "model = SelectFromModel(clf, prefit=True)\n",
    "X_new = model.transform(X)\n",
    "\n",
    "# 保存降维后的数据\n",
    "X_new_df = pd.DataFrame(X_new)\n",
    "X_new_df['Label'] = y.values\n",
    "X_new_df.to_csv('../data/processed/reduced_features_data.csv', index=False)\n"
   ]
  }
 ],
 "metadata": {
  "kernelspec": {
   "display_name": "Python 3",
   "language": "python",
   "name": "python3"
  },
  "language_info": {
   "codemirror_mode": {
    "name": "ipython",
    "version": 2
   },
   "file_extension": ".py",
   "mimetype": "text/x-python",
   "name": "python",
   "nbconvert_exporter": "python",
   "pygments_lexer": "ipython2",
   "version": "2.7.6"
  }
 },
 "nbformat": 4,
 "nbformat_minor": 5
}
